{
 "cells": [
  {
   "cell_type": "code",
   "execution_count": 1,
   "metadata": {},
   "outputs": [],
   "source": [
    "import os\n",
    "import re\n",
    "from tqdm import tqdm"
   ]
  },
  {
   "cell_type": "code",
   "execution_count": 2,
   "metadata": {},
   "outputs": [
    {
     "name": "stderr",
     "output_type": "stream",
     "text": [
      "100%|██████████| 228613/228613 [08:55<00:00, 426.62it/s]\n"
     ]
    },
    {
     "name": "stdout",
     "output_type": "stream",
     "text": [
      "27\n"
     ]
    }
   ],
   "source": [
    "os.chdir('/Users/zoiabutenko/Desktop/курсовая/stihi_ru_makup')\n",
    "files = os.listdir('/Users/zoiabutenko/Desktop/курсовая/stihi_ru_makup')\n",
    "texts = []\n",
    "err_counter = 0\n",
    "for f in tqdm(range(228613)):\n",
    "    textt = files[f]\n",
    "    with open(textt, 'r') as file:\n",
    "        try:\n",
    "            poem = file.read()\n",
    "            text = re.findall('/>\\n([\\s\\S]+)<', poem)\n",
    "            texts.append(text[-1])\n",
    "        except UnicodeDecodeError:\n",
    "            err_counter += 1\n",
    "print(err_counter)"
   ]
  },
  {
   "cell_type": "code",
   "execution_count": 4,
   "metadata": {},
   "outputs": [
    {
     "name": "stderr",
     "output_type": "stream",
     "text": [
      "100%|██████████| 228586/228586 [05:32<00:00, 686.76it/s] "
     ]
    },
    {
     "name": "stdout",
     "output_type": "stream",
     "text": [
      "4575064 \n",
      "\n",
      "Я быва`ю на чте`ниях мно`гих поэ`тов,\tАн4ж\n",
      "Трени`рующих о`бразность и рифмова`нье.\tЯ6ж\n",
      "Часом лу`пят строко`й как по ре`брам касте`том,\tАн4ж\n",
      "Часом надоеда`ют слаща`вым ласка`ньем…\tАн4ж*\n",
      "\n",
      "И опя`ть и опя`ть, все - эпи`чески гро`мко,\tАн4ж\n",
      "Все - мане`рно, до ме`рзости, претенцио`зно,\tАн4ж\n",
      "Снова ри`фмы бана`льные пра`вят ряда`ми,\tАн4ж\n",
      "И сюже`ты обы`денно одноголо`сы…\tАн4ж\n",
      "\n",
      "Так и хо`чется про`сто подня`ться и вы`йти\tАн4ж\n",
      "И молча`ньем не усугубля`ть преступле`нья…\tАн4ж\n",
      "Стихотво`рец, позво`льте, не Бу`ратино:\tАн3г*\n",
      "Его то`чно не вы`строгать и`з поленье`в!\tАн4м*\n",
      "\n",
      "\n"
     ]
    },
    {
     "name": "stderr",
     "output_type": "stream",
     "text": [
      "\n"
     ]
    }
   ],
   "source": [
    "ind_poems = []\n",
    "for i in tqdm(range(len(texts))):\n",
    "    poems = re.findall('/>\\n([\\s\\S]+?)<', texts[i])\n",
    "    for p in poems:\n",
    "        ind_poems.append(p)\n",
    "        \n",
    "print(len(ind_poems), ind_poems[0])"
   ]
  },
  {
   "cell_type": "code",
   "execution_count": 6,
   "metadata": {},
   "outputs": [
    {
     "name": "stderr",
     "output_type": "stream",
     "text": [
      "100%|██████████| 4575064/4575064 [09:36<00:00, 7934.71it/s] \n"
     ]
    }
   ],
   "source": [
    "all_poems = [re.sub('<.+.>\\n', '', al) for al in ind_poems]\n",
    "\n",
    "os.chdir('/Users/zoiabutenko/Desktop/курсовая/corpus_by_meter')\n",
    "for al in tqdm(all_poems):\n",
    "    lines = re.findall('\\n', al)\n",
    "    if len(list(lines)) >= 3:\n",
    "        meter = re.findall('\\t(.+)\\n', al)\n",
    "        for met in range(len(meter)):\n",
    "            if meter[met][-1] == '*':\n",
    "                meter[met] = meter[met][:-1]\n",
    "        meter_no_end = [m[:-1] for m in meter]\n",
    "        unique = list(set(meter_no_end))\n",
    "        if len(unique) == 1:\n",
    "            with open(unique[0] + '_corpus.txt', 'a', encoding='utf-8') as mf:\n",
    "                mf.write(al + '\\n=====\\n')"
   ]
  }
 ],
 "metadata": {
  "kernelspec": {
   "display_name": "Python 3",
   "language": "python",
   "name": "python3"
  },
  "language_info": {
   "codemirror_mode": {
    "name": "ipython",
    "version": 3
   },
   "file_extension": ".py",
   "mimetype": "text/x-python",
   "name": "python",
   "nbconvert_exporter": "python",
   "pygments_lexer": "ipython3",
   "version": "3.7.4"
  }
 },
 "nbformat": 4,
 "nbformat_minor": 4
}
