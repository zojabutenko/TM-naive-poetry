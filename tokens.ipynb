{
 "cells": [
  {
   "cell_type": "code",
   "execution_count": 1,
   "metadata": {},
   "outputs": [],
   "source": [
    "import os, re\n",
    "from tqdm import tqdm"
   ]
  },
  {
   "cell_type": "code",
   "execution_count": 2,
   "metadata": {},
   "outputs": [],
   "source": [
    "from pymorphy2 import MorphAnalyzer\n",
    "morph = MorphAnalyzer()"
   ]
  },
  {
   "cell_type": "code",
   "execution_count": 3,
   "metadata": {},
   "outputs": [],
   "source": [
    "os.chdir('/Volumes/jagl/курсовая/corpus_by_ending/гаспаров')\n",
    "files = os.listdir('/Volumes/jagl/курсовая/corpus_by_ending/гаспаров')"
   ]
  },
  {
   "cell_type": "code",
   "execution_count": 4,
   "metadata": {},
   "outputs": [],
   "source": [
    "token_dict = {}"
   ]
  },
  {
   "cell_type": "code",
   "execution_count": 5,
   "metadata": {},
   "outputs": [],
   "source": [
    "def preprocess(text):\n",
    "    text = re.sub('\\t(.+)\\n', '', text)\n",
    "    text = re.sub('`', '', text)\n",
    "    text = re.sub('\\n=====\\n', '', text)\n",
    "    text = re.sub('-', '', text)\n",
    "    text = re.sub('\\d+', '', text)\n",
    "    words = re.findall('\\w+', text)\n",
    "    return len(words)"
   ]
  },
  {
   "cell_type": "code",
   "execution_count": 6,
   "metadata": {},
   "outputs": [
    {
     "name": "stderr",
     "output_type": "stream",
     "text": [
      "100%|██████████| 5/5 [00:08<00:00,  1.72s/it]"
     ]
    },
    {
     "name": "stdout",
     "output_type": "stream",
     "text": [
      "{'Д4_дддд.txt': 83676, 'Х3_жмжм.txt': 202396, 'Х4_дмдм.txt': 96430, 'Х4_жмжм.txt': 3140142, 'Я4_дмдм.txt': 196319}\n"
     ]
    },
    {
     "name": "stderr",
     "output_type": "stream",
     "text": [
      "\n"
     ]
    }
   ],
   "source": [
    "for f in tqdm(files):\n",
    "    with open(f, 'r', encoding='utf-8') as file:\n",
    "        text = file.read()\n",
    "    length = preprocess(text)\n",
    "    token_dict.update({f: length})\n",
    "print(token_dict)"
   ]
  },
  {
   "cell_type": "code",
   "execution_count": 7,
   "metadata": {},
   "outputs": [
    {
     "name": "stdout",
     "output_type": "stream",
     "text": [
      "Д4_дддд.txt: 83676\n",
      "Х3_жмжм.txt: 202396\n",
      "Х4_дмдм.txt: 96430\n",
      "Х4_жмжм.txt: 3140142\n",
      "Я4_дмдм.txt: 196319\n"
     ]
    }
   ],
   "source": [
    "for i in token_dict.keys():\n",
    "    print(i + ': ' + str(token_dict[i]))"
   ]
  },
  {
   "cell_type": "code",
   "execution_count": 14,
   "metadata": {},
   "outputs": [],
   "source": [
    "import pandas"
   ]
  },
  {
   "cell_type": "code",
   "execution_count": 16,
   "metadata": {},
   "outputs": [
    {
     "name": "stdout",
     "output_type": "stream",
     "text": [
      "61 61\n"
     ]
    }
   ],
   "source": [
    "meters = token_dict.keys()\n",
    "numbers = []\n",
    "for i in meters:\n",
    "    numbers.append(str(token_dict[i]))\n",
    "print(len(meters), len(numbers))"
   ]
  },
  {
   "cell_type": "code",
   "execution_count": 19,
   "metadata": {},
   "outputs": [
    {
     "name": "stdout",
     "output_type": "stream",
     "text": [
      "dict_keys(['Ак0_corpus.txt', 'Ам0_corpus.txt', 'Ам1_corpus.txt', 'Ам2_corpus.txt', 'Ам3_corpus.txt', 'Ам4_corpus.txt', 'Ам5_corpus.txt', 'Ам6_corpus.txt', 'Ам7_corpus.txt', 'Ам8_corpus.txt', 'Ам9_corpus.txt', 'Ан0_corpus.txt', 'Ан1_corpus.txt', 'Ан2_corpus.txt', 'Ан3_corpus.txt', 'Ан4_corpus.txt', 'Ан5_corpus.txt', 'Ан6_corpus.txt', 'Ан7_corpus.txt', 'Ан8_corpus.txt', 'Д1_corpus.txt', 'Д2_corpus.txt', 'Д3_corpus.txt', 'Д4_corpus.txt', 'Д5_corpus.txt', 'Д6_corpus.txt', 'Д7_corpus.txt', 'Д8_corpus.txt', 'Д9_corpus.txt', 'НУ_corpus.txt', 'Х10_corpus.txt', 'Х11_corpus.txt', 'Х12_corpus.txt', 'Х13_corpus.txt', 'Х14_corpus.txt', 'Х17_corpus.txt', 'Х1_corpus.txt', 'Х2_corpus.txt', 'Х3_corpus.txt', 'Х4_corpus.txt', 'Х5_corpus.txt', 'Х6_corpus.txt', 'Х7_corpus.txt', 'Х8_corpus.txt', 'Х9_corpus.txt', 'Я0_corpus.txt', 'Я10_corpus.txt', 'Я11_corpus.txt', 'Я12_corpus.txt', 'Я13_corpus.txt', 'Я14_corpus.txt', 'Я15_corpus.txt', 'Я1_corpus.txt', 'Я2_corpus.txt', 'Я3_corpus.txt', 'Я4_corpus.txt', 'Я5_corpus.txt', 'Я6_corpus.txt', 'Я7_corpus.txt', 'Я8_corpus.txt', 'Я9_corpus.txt'])\n"
     ]
    }
   ],
   "source": [
    "print(meters)"
   ]
  },
  {
   "cell_type": "code",
   "execution_count": 21,
   "metadata": {},
   "outputs": [
    {
     "data": {
      "text/html": [
       "<div>\n",
       "<style scoped>\n",
       "    .dataframe tbody tr th:only-of-type {\n",
       "        vertical-align: middle;\n",
       "    }\n",
       "\n",
       "    .dataframe tbody tr th {\n",
       "        vertical-align: top;\n",
       "    }\n",
       "\n",
       "    .dataframe thead th {\n",
       "        text-align: right;\n",
       "    }\n",
       "</style>\n",
       "<table border=\"1\" class=\"dataframe\">\n",
       "  <thead>\n",
       "    <tr style=\"text-align: right;\">\n",
       "      <th></th>\n",
       "      <th>file</th>\n",
       "      <th>tokens</th>\n",
       "    </tr>\n",
       "  </thead>\n",
       "  <tbody>\n",
       "    <tr>\n",
       "      <th>0</th>\n",
       "      <td>Ак0_corpus.txt</td>\n",
       "      <td>26853</td>\n",
       "    </tr>\n",
       "    <tr>\n",
       "      <th>1</th>\n",
       "      <td>Ам0_corpus.txt</td>\n",
       "      <td>16</td>\n",
       "    </tr>\n",
       "    <tr>\n",
       "      <th>2</th>\n",
       "      <td>Ам1_corpus.txt</td>\n",
       "      <td>415</td>\n",
       "    </tr>\n",
       "    <tr>\n",
       "      <th>3</th>\n",
       "      <td>Ам2_corpus.txt</td>\n",
       "      <td>199543</td>\n",
       "    </tr>\n",
       "    <tr>\n",
       "      <th>4</th>\n",
       "      <td>Ам3_corpus.txt</td>\n",
       "      <td>1624266</td>\n",
       "    </tr>\n",
       "    <tr>\n",
       "      <th>...</th>\n",
       "      <td>...</td>\n",
       "      <td>...</td>\n",
       "    </tr>\n",
       "    <tr>\n",
       "      <th>56</th>\n",
       "      <td>Я5_corpus.txt</td>\n",
       "      <td>10016740</td>\n",
       "    </tr>\n",
       "    <tr>\n",
       "      <th>57</th>\n",
       "      <td>Я6_corpus.txt</td>\n",
       "      <td>1235530</td>\n",
       "    </tr>\n",
       "    <tr>\n",
       "      <th>58</th>\n",
       "      <td>Я7_corpus.txt</td>\n",
       "      <td>268616</td>\n",
       "    </tr>\n",
       "    <tr>\n",
       "      <th>59</th>\n",
       "      <td>Я8_corpus.txt</td>\n",
       "      <td>154841</td>\n",
       "    </tr>\n",
       "    <tr>\n",
       "      <th>60</th>\n",
       "      <td>Я9_corpus.txt</td>\n",
       "      <td>6514</td>\n",
       "    </tr>\n",
       "  </tbody>\n",
       "</table>\n",
       "<p>61 rows × 2 columns</p>\n",
       "</div>"
      ],
      "text/plain": [
       "              file    tokens\n",
       "0   Ак0_corpus.txt     26853\n",
       "1   Ам0_corpus.txt        16\n",
       "2   Ам1_corpus.txt       415\n",
       "3   Ам2_corpus.txt    199543\n",
       "4   Ам3_corpus.txt   1624266\n",
       "..             ...       ...\n",
       "56   Я5_corpus.txt  10016740\n",
       "57   Я6_corpus.txt   1235530\n",
       "58   Я7_corpus.txt    268616\n",
       "59   Я8_corpus.txt    154841\n",
       "60   Я9_corpus.txt      6514\n",
       "\n",
       "[61 rows x 2 columns]"
      ]
     },
     "execution_count": 21,
     "metadata": {},
     "output_type": "execute_result"
    }
   ],
   "source": [
    "df = pandas.DataFrame({\n",
    "    'file': list(meters),\n",
    "    'tokens': numbers\n",
    "})\n",
    "df.head(61)"
   ]
  },
  {
   "cell_type": "code",
   "execution_count": 25,
   "metadata": {},
   "outputs": [],
   "source": [
    "df.to_csv(r'/Volumes/jagl/курсовая/tokens.csv', encoding='utf-8', index=False)"
   ]
  },
  {
   "cell_type": "code",
   "execution_count": null,
   "metadata": {},
   "outputs": [],
   "source": []
  }
 ],
 "metadata": {
  "kernelspec": {
   "display_name": "Python 3",
   "language": "python",
   "name": "python3"
  },
  "language_info": {
   "codemirror_mode": {
    "name": "ipython",
    "version": 3
   },
   "file_extension": ".py",
   "mimetype": "text/x-python",
   "name": "python",
   "nbconvert_exporter": "python",
   "pygments_lexer": "ipython3",
   "version": "3.7.4"
  }
 },
 "nbformat": 4,
 "nbformat_minor": 4
}